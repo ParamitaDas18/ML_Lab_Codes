{
  "nbformat": 4,
  "nbformat_minor": 0,
  "metadata": {
    "colab": {
      "provenance": [],
      "authorship_tag": "ABX9TyPhrbz4N6e9j8RmDCP280ca",
      "include_colab_link": true
    },
    "kernelspec": {
      "name": "python3",
      "display_name": "Python 3"
    },
    "language_info": {
      "name": "python"
    }
  },
  "cells": [
    {
      "cell_type": "markdown",
      "metadata": {
        "id": "view-in-github",
        "colab_type": "text"
      },
      "source": [
        "<a href=\"https://colab.research.google.com/github/ParamitaDas18/ML_Lab_Codes/blob/main/Q8_Naive_Bayes__algorithms.ipynb\" target=\"_parent\"><img src=\"https://colab.research.google.com/assets/colab-badge.svg\" alt=\"Open In Colab\"/></a>"
      ]
    },
    {
      "cell_type": "code",
      "execution_count": 1,
      "metadata": {
        "colab": {
          "base_uri": "https://localhost:8080/"
        },
        "id": "lvBqpn35pwBQ",
        "outputId": "67ef4b77-0d6f-411b-b09f-4c1d2e34743c"
      },
      "outputs": [
        {
          "output_type": "stream",
          "name": "stdout",
          "text": [
            "pima-indians-diabetes.dataset.txt  sample_data\n"
          ]
        }
      ],
      "source": [
        "!ls"
      ]
    },
    {
      "cell_type": "code",
      "source": [
        "import pandas as pd\n",
        "from sklearn.model_selection import train_test_split\n",
        "from sklearn.naive_bayes import GaussianNB, BernoulliNB\n",
        "from sklearn.metrics import accuracy_score, f1_score, classification_report, confusion_matrix\n",
        "import seaborn as sns\n",
        "import matplotlib.pyplot as plt\n",
        "\n",
        "# 1. Load dataset\n",
        "# Corrected filename\n",
        "df = pd.read_csv(\"pima-indians-diabetes.dataset.txt\")\n",
        "\n",
        "# Assuming the last column is the target variable and the rest are features\n",
        "# If your dataset has headers, you might need to adjust the column names\n",
        "X = df.iloc[:, :-1]  # Features (all columns except the last one)\n",
        "y = df.iloc[:, -1]   # Labels (the last column)\n",
        "\n",
        "# 3. Train-test split\n",
        "X_train, X_test, y_train, y_test = train_test_split(\n",
        "    X, y, test_size=0.3, random_state=42\n",
        ")\n",
        "\n",
        "# 4. Train Naive Bayes models\n",
        "gnb = GaussianNB()\n",
        "gnb.fit(X_train, y_train)\n",
        "y_pred_gnb = gnb.predict(X_test)\n",
        "\n",
        "bnb = BernoulliNB()\n",
        "bnb.fit(X_train, y_train) # Corrected: fit with y_train\n",
        "y_pred_bnb = bnb.predict(X_test)\n",
        "\n",
        "# 5. Evaluate both models\n",
        "accuracy_gnb = accuracy_score(y_test, y_pred_gnb)\n",
        "f1_gnb = f1_score(y_test, y_pred_gnb)\n",
        "\n",
        "accuracy_bnb = accuracy_score(y_test, y_pred_bnb)\n",
        "f1_bnb = f1_score(y_test, y_pred_bnb)\n",
        "\n",
        "print(\"=== Gaussian Naive Bayes ===\")\n",
        "print(f\"Accuracy: {accuracy_gnb:.4f}\")\n",
        "print(f\"F1-Score: {f1_gnb:.4f}\")\n",
        "print(\"\\nClassification Report:\")\n",
        "print(classification_report(y_test, y_pred_gnb))\n",
        "\n",
        "print(\"\\n=== Bernoulli Naive Bayes ===\")\n",
        "print(f\"Accuracy: {accuracy_bnb:.4f}\")\n",
        "print(f\"F1-Score: {f1_bnb:.4f}\")\n",
        "print(\"\\nClassification Report:\")\n",
        "print(classification_report(y_test, y_pred_bnb))\n",
        "\n",
        "# 6. Confusion matrix (Gaussian NB)\n",
        "cm = confusion_matrix(y_test, y_pred_gnb)\n",
        "plt.figure(figsize=(5,4))\n",
        "sns.heatmap(cm, annot=True, fmt='d', cmap='Blues')\n",
        "plt.title('Confusion Matrix - Gaussian NB')\n",
        "plt.xlabel('Predicted')\n",
        "plt.ylabel('Actual')\n",
        "plt.show()"
      ],
      "metadata": {
        "colab": {
          "base_uri": "https://localhost:8080/",
          "height": 913
        },
        "id": "eXCOlLGuqF7D",
        "outputId": "07611c2a-8a3d-4b33-e8f2-9e75b1ce7cec"
      },
      "execution_count": 4,
      "outputs": [
        {
          "output_type": "stream",
          "name": "stdout",
          "text": [
            "=== Gaussian Naive Bayes ===\n",
            "Accuracy: 0.6667\n",
            "F1-Score: 0.6667\n",
            "\n",
            "Classification Report:\n",
            "              precision    recall  f1-score   support\n",
            "\n",
            "           0       0.50      1.00      0.67         2\n",
            "           1       1.00      0.50      0.67         4\n",
            "\n",
            "    accuracy                           0.67         6\n",
            "   macro avg       0.75      0.75      0.67         6\n",
            "weighted avg       0.83      0.67      0.67         6\n",
            "\n",
            "\n",
            "=== Bernoulli Naive Bayes ===\n",
            "Accuracy: 0.5000\n",
            "F1-Score: 0.5714\n",
            "\n",
            "Classification Report:\n",
            "              precision    recall  f1-score   support\n",
            "\n",
            "           0       0.33      0.50      0.40         2\n",
            "           1       0.67      0.50      0.57         4\n",
            "\n",
            "    accuracy                           0.50         6\n",
            "   macro avg       0.50      0.50      0.49         6\n",
            "weighted avg       0.56      0.50      0.51         6\n",
            "\n"
          ]
        },
        {
          "output_type": "display_data",
          "data": {
            "text/plain": [
              "<Figure size 500x400 with 2 Axes>"
            ],
            "image/png": "[encoded data removed]"
          },
          "metadata": {}
        }
      ]
    }
  ]
}